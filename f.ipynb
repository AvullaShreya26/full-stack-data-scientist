{
 "cells": [
  {
   "cell_type": "code",
   "execution_count": 16,
   "metadata": {},
   "outputs": [
    {
     "name": "stdout",
     "output_type": "stream",
     "text": [
      "Factorial of 5 is 120\n"
     ]
    }
   ],
   "source": [
    "def factorial(n):\n",
    "    if n == 0 or n == 1:\n",
    "        return 1\n",
    "    else:\n",
    "        return n * factorial(n - 1)\n",
    "num = int(input(\"enter :\"))\n",
    "print(f\"Factorial of {num} is {factorial(num)}\")\n"
   ]
  },
  {
   "cell_type": "code",
   "execution_count": 14,
   "metadata": {},
   "outputs": [
    {
     "name": "stdout",
     "output_type": "stream",
     "text": [
      "1221 is a palindrome.\n"
     ]
    }
   ],
   "source": [
    "pat_id = input(\"Enter patient ID: \")\n",
    "if pat_id == pat_id[::-1]:\n",
    "    print(f\"{pat_id} is a palindrome.\")\n",
    "else:\n",
    "    print(f\"{pat_id} is not a palindrome.\")\n"
   ]
  },
  {
   "cell_type": "code",
   "execution_count": 13,
   "metadata": {},
   "outputs": [
    {
     "name": "stdout",
     "output_type": "stream",
     "text": [
      "0\n",
      "15\n",
      "30\n",
      "45\n",
      "60\n",
      "75\n",
      "90\n"
     ]
    }
   ],
   "source": [
    "for i in range(101):\n",
    "    if i%3==0 and i%5==0:\n",
    "        print(i)\n",
    "        "
   ]
  },
  {
   "cell_type": "code",
   "execution_count": 12,
   "metadata": {},
   "outputs": [
    {
     "name": "stdout",
     "output_type": "stream",
     "text": [
      "6 : greater\n"
     ]
    }
   ],
   "source": [
    "n1 = int(input())\n",
    "n2 = int(input())\n",
    "n3 = int(input())\n",
    "n4 = int(input())\n",
    "n5 = int(input())\n",
    "\n",
    "if n1 > n2 and n1 > n3 and n1 > n4 and n1 > n5:\n",
    "    print(f\"{n1} : greater\")\n",
    "elif n2 > n3 and n2 > n4 and n2 > n5:\n",
    "    print(f\"{n2} : greater\")\n",
    "elif n3 > n4 and n3 > n5:\n",
    "    print(f\"{n3} : greater\")\n",
    "elif n4 > n5:\n",
    "    print(f\"{n4} : greater\")\n",
    "else:\n",
    "    print(f\"{n5} : greater\")\n",
    "\n",
    "\n",
    "\n"
   ]
  },
  {
   "cell_type": "code",
   "execution_count": 4,
   "metadata": {},
   "outputs": [
    {
     "name": "stdout",
     "output_type": "stream",
     "text": [
      "2020 is a leap year.\n"
     ]
    }
   ],
   "source": [
    "def is_leap_year(year):\n",
    "  \n",
    "    if (year % 4 == 0 and year % 100 != 0) or (year % 400 == 0):\n",
    "        return True\n",
    "    else:\n",
    "        return False\n",
    "year = int(input(\"Enter a year: \"))\n",
    "if is_leap_year(year):\n",
    "    print(f\"{year} is a leap year.\")\n",
    "else:\n",
    "    print(f\"{year} is not a leap year.\")\n"
   ]
  },
  {
   "cell_type": "code",
   "execution_count": 3,
   "metadata": {},
   "outputs": [
    {
     "name": "stdout",
     "output_type": "stream",
     "text": [
      "0\n",
      "3\n",
      "6\n",
      "9\n",
      "12\n",
      "15\n",
      "18\n",
      "21\n",
      "24\n",
      "27\n",
      "30\n"
     ]
    }
   ],
   "source": [
    "num=int(input(\"enter \"))\n",
    "for i in range(11):\n",
    "    print(i*num)\n"
   ]
  },
  {
   "cell_type": "code",
   "execution_count": 7,
   "metadata": {},
   "outputs": [
    {
     "name": "stdout",
     "output_type": "stream",
     "text": [
      "no\n"
     ]
    }
   ],
   "source": [
    "num=int(input(\"enter \"))\n",
    "org=num\n",
    "rev=0\n",
    "while num>0:\n",
    "    div=num%10\n",
    "    rev=rev+div*3\n",
    "    num=num/10\n",
    "\n",
    "if(rev==org):\n",
    "    print(\"yes\")\n",
    "else:\n",
    "    print(\"no\")"
   ]
  },
  {
   "cell_type": "code",
   "execution_count": null,
   "metadata": {},
   "outputs": [],
   "source": [
    "def count_vowels_consonants(sentence):\n",
    "    vowels = \"aeiouAEIOU\"\n",
    "    vowel_count = 0\n",
    "    consonant_count = 0\n",
    "\n",
    "    for char in sentence:\n",
    "        if char.isalpha():\n",
    "            if char in vowels:\n",
    "                vowel_count += 1\n",
    "            else:\n",
    "                consonant_count += 1\n",
    "\n",
    "    return vowel_count, consonant_count\n",
    "\n",
    "sentence = input(\"Enter a sentence: \")\n",
    "\n",
    "vowels, consonants = count_vowels_consonants(sentence)\n",
    "\n",
    "print(f\"Vowels: {vowels}\")\n",
    "print(f\"Consonants: {consonants}\")\n",
    "\n",
    "\n",
    " "
   ]
  },
  {
   "cell_type": "code",
   "execution_count": 5,
   "metadata": {},
   "outputs": [
    {
     "name": "stdout",
     "output_type": "stream",
     "text": [
      "Mirror view: ayerhs\n"
     ]
    }
   ],
   "source": [
    "def rev_string(s):\n",
    "    rev_str = \"\"\n",
    "    for char in s:\n",
    "        rev_str = char + rev_str\n",
    "    return rev_str\n",
    "\n",
    "name = input(\"Enter: \")\n",
    "print(\"Mirror view:\", rev_string(name))\n"
   ]
  },
  {
   "cell_type": "code",
   "execution_count": 17,
   "metadata": {},
   "outputs": [
    {
     "name": "stdout",
     "output_type": "stream",
     "text": [
      "2 3\n",
      "3 2\n"
     ]
    }
   ],
   "source": [
    "a=int(input(\"enter a: \"))\n",
    "b=int(input(\"enter b: \"))\n",
    "print(a,b)\n",
    "a=a+b\n",
    "b=a-b\n",
    "a=a-b\n",
    "print(a,b)"
   ]
  }
 ],
 "metadata": {
  "kernelspec": {
   "display_name": "Python 3",
   "language": "python",
   "name": "python3"
  },
  "language_info": {
   "codemirror_mode": {
    "name": "ipython",
    "version": 3
   },
   "file_extension": ".py",
   "mimetype": "text/x-python",
   "name": "python",
   "nbconvert_exporter": "python",
   "pygments_lexer": "ipython3",
   "version": "3.11.0"
  }
 },
 "nbformat": 4,
 "nbformat_minor": 2
}
