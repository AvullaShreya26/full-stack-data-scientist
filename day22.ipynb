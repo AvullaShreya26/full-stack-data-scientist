{
 "cells": [
  {
   "cell_type": "code",
   "execution_count": 2,
   "id": "0898d972",
   "metadata": {},
   "outputs": [
    {
     "name": "stdout",
     "output_type": "stream",
     "text": [
      "10\n"
     ]
    }
   ],
   "source": [
    "def sum_numbers(num):\n",
    "    sum=0\n",
    "    while num>0:\n",
    "     dig=num%10\n",
    "     sum=sum+dig\n",
    "     num=num//10\n",
    "    return sum\n",
    "num1=int(input())\n",
    "print(sum_numbers(num1))\n"
   ]
  },
  {
   "cell_type": "code",
   "execution_count": 3,
   "id": "9eaf7b36",
   "metadata": {},
   "outputs": [
    {
     "name": "stdout",
     "output_type": "stream",
     "text": [
      "Is prime\n",
      "None\n"
     ]
    }
   ],
   "source": [
    "def prime_check(num):\n",
    "    c=0\n",
    "    for i in range(1,num+1):\n",
    "        if num%i==0:\n",
    "            c=c+1\n",
    "    if c==2:\n",
    "        print(\"Is prime\")\n",
    "    else:\n",
    "        print(\"Not Prime\")\n",
    "n=int(input())\n",
    "print(prime_check(n))"
   ]
  },
  {
   "cell_type": "code",
   "execution_count": 18,
   "id": "515cece8",
   "metadata": {},
   "outputs": [
    {
     "name": "stdout",
     "output_type": "stream",
     "text": [
      "Simple Interest = 2000.0\n",
      "Total Amount  = 52000.0\n"
     ]
    }
   ],
   "source": [
    "def simple_interest(p, r, t):\n",
    "    return (p * r * t) / 100\n",
    "\n",
    "P = float(input(\"Enter Principal amount: \"))\n",
    "R = float(input(\"Enter Rate of Interest: \"))\n",
    "T = float(input(\"Enter Time: \"))\n",
    "\n",
    "SI = simple_interest(P, R, T)\n",
    "\n",
    "print(f\"Simple Interest = {SI}\")\n",
    "print(f\"Total Amount  = {P + SI}\")\n"
   ]
  },
  {
   "cell_type": "code",
   "execution_count": 17,
   "id": "42ca6fed",
   "metadata": {},
   "outputs": [
    {
     "name": "stdout",
     "output_type": "stream",
     "text": [
      "[10, 20, 30, 40]\n",
      "40\n"
     ]
    }
   ],
   "source": [
    "n=int(input())\n",
    "list1=[]\n",
    "for i in range(n):\n",
    "    num=int(input())\n",
    "    list1.append(num)\n",
    "print(list1)\n",
    "m=max(list1)\n",
    "print(m)"
   ]
  },
  {
   "cell_type": "code",
   "execution_count": 4,
   "id": "3bde294b",
   "metadata": {},
   "outputs": [
    {
     "name": "stdout",
     "output_type": "stream",
     "text": [
      "[10, 20, 30, 40]\n",
      "40 10\n"
     ]
    }
   ],
   "source": [
    "n=int(input())\n",
    "list1=[]\n",
    "for i in range(n):\n",
    "    num=int(input())\n",
    "    list1.append(num)\n",
    "print(list1)\n",
    "m=max(list1)\n",
    "s=min(list1)\n",
    "print(m,s)"
   ]
  },
  {
   "cell_type": "code",
   "execution_count": 1,
   "id": "731b07a8",
   "metadata": {},
   "outputs": [
    {
     "name": "stdout",
     "output_type": "stream",
     "text": [
      "{'aloo': 40, 'beetroot': 50, 'carrot': 32}\n",
      "122\n"
     ]
    }
   ],
   "source": [
    "\n",
    "def total_bill(itemss):\n",
    "    return sum(itemss.values())\n",
    "\n",
    "\n",
    "items={}\n",
    "n=int(input())\n",
    "for i in range(n):\n",
    "    it=input()\n",
    "    price=int(input())\n",
    "    items[it]=price\n",
    "print(items)\n",
    "s=total_bill(items)\n",
    "print(s)\n",
    "\n",
    "\n",
    "\n",
    "\n",
    "\n"
   ]
  },
  {
   "cell_type": "code",
   "execution_count": null,
   "id": "372cf84a",
   "metadata": {},
   "outputs": [
    {
     "name": "stdout",
     "output_type": "stream",
     "text": [
      "54.7°F = 12.61°C\n"
     ]
    }
   ],
   "source": [
    "def celsius_to_fahrenheit(c):\n",
    "    return (c * 9/5) + 32\n",
    "\n",
    "def fahrenheit_to_celsius(f):\n",
    "    return (f - 32) * 5/9\n",
    "\n",
    "choice = input(\"\").upper()\n",
    "temp = float(input(\"\"))\n",
    "\n",
    "if choice == \"C\":\n",
    "    print(f\"{temp}°C = {celsius_to_fahrenheit(temp):.2f}°F\")\n",
    "elif choice == \"F\":\n",
    "    print(f\"{temp}°F = {fahrenheit_to_celsius(temp):.2f}°C\")\n",
    "else:\n",
    "    print(\"Invalid choice! Please enter C or F.\")\n"
   ]
  },
  {
   "cell_type": "code",
   "execution_count": 15,
   "id": "38f245f5",
   "metadata": {},
   "outputs": [
    {
     "name": "stdout",
     "output_type": "stream",
     "text": [
      "Duplicate students: ['Ravi', 'Ashu']\n"
     ]
    }
   ],
   "source": [
    "def find_duplicates(names):\n",
    "    s = set()\n",
    "    d= set()\n",
    "    \n",
    "    for name in names:\n",
    "        if name in s:\n",
    "            d.add(name)\n",
    "        else:\n",
    "            s.add(name)\n",
    "    \n",
    "    return list(d)\n",
    "\n",
    "students = [\"Ashu\", \"Ravi\", \"Kiran\", \"Ravi\", \"Meena\", \"Ashu\", \"priya\"]\n",
    "print(\"Duplicate students:\", find_duplicates(students))\n"
   ]
  },
  {
   "cell_type": "code",
   "execution_count": 11,
   "id": "f2f946cf",
   "metadata": {},
   "outputs": [
    {
     "data": {
      "text/plain": [
       "'Invalid operator'"
      ]
     },
     "execution_count": 11,
     "metadata": {},
     "output_type": "execute_result"
    }
   ],
   "source": [
    "def calculator(a, b, op):\n",
    "    if op == \"+\":\n",
    "        return a + b\n",
    "    elif op == \"-\":\n",
    "        return a - b\n",
    "    elif op == \"*\":\n",
    "        return a * b\n",
    "    elif op == \"/\":\n",
    "        return a / b if b != 0 else \" Division by zero\"\n",
    "    else:\n",
    "        return \"Invalid operator\"\n",
    "\n",
    "m=int(input())\n",
    "n=int(input())\n",
    "opp=input()\n",
    "calculator(n,m,opp)"
   ]
  },
  {
   "cell_type": "code",
   "execution_count": 4,
   "id": "b2838886",
   "metadata": {},
   "outputs": [
    {
     "name": "stdout",
     "output_type": "stream",
     "text": [
      "True\n",
      "False\n"
     ]
    }
   ],
   "source": [
    "import re\n",
    "\n",
    "def strong_password(password):\n",
    "    if (len(password) >= 8 \n",
    "        and re.search(r\"[A-Z]\", password) \n",
    "        and re.search(r\"[a-z]\", password) \n",
    "        and re.search(r\"[0-9]\", password) \n",
    "        and re.search(r\"[@$!%*?&]\", password)):\n",
    "        return True\n",
    "    return False\n",
    "\n",
    "print(strong_password(\"Abc@12345\")) \n",
    "print(strong_password(\"weak1pass\"))  \n"
   ]
  },
  {
   "cell_type": "code",
   "execution_count": null,
   "id": "dc689b73",
   "metadata": {},
   "outputs": [
    {
     "name": "stdout",
     "output_type": "stream",
     "text": [
      "4\n"
     ]
    }
   ],
   "source": [
    "def count_words(filename):\n",
    "    try:\n",
    "        with open(filename, \"r\") as file:\n",
    "            text = file.read()\n",
    "            words = text.split()\n",
    "            return len(words)\n",
    "    except FileNotFoundError:\n",
    "        return \"File not found!\"\n",
    "    \n",
    "print(count_words(\"sample.txt\"))\n"
   ]
  },
  {
   "cell_type": "code",
   "execution_count": 8,
   "id": "52b23864",
   "metadata": {},
   "outputs": [
    {
     "name": "stdout",
     "output_type": "stream",
     "text": [
      "Counter({'s': 1, 'h': 1, 'r': 1, 'e': 1, 'y': 1, 'a': 1})\n"
     ]
    }
   ],
   "source": [
    "import collections\n",
    "\n",
    "def char_count(text):\n",
    "    s=collections.Counter(text)\n",
    "    return s\n",
    "str=input()\n",
    "print(char_count(str))"
   ]
  },
  {
   "cell_type": "code",
   "execution_count": 9,
   "id": "f5ed5286",
   "metadata": {},
   "outputs": [
    {
     "name": "stdout",
     "output_type": "stream",
     "text": [
      "['shreya', 'ashwini', 'priya']\n",
      "['ashwini', 'priya', 'shreya']\n"
     ]
    }
   ],
   "source": [
    "def sort_list(l):\n",
    "    s=sorted(l)\n",
    "    return s\n",
    "\n",
    "\n",
    "n=int(input())\n",
    "list1=[]\n",
    "for i in range(n):\n",
    "    names=input()\n",
    "    list1.append(names)\n",
    "print(list1)  \n",
    "s=sort_list(list1)\n",
    "print(s)"
   ]
  },
  {
   "cell_type": "code",
   "execution_count": 10,
   "id": "e1d01a25",
   "metadata": {},
   "outputs": [
    {
     "name": "stdout",
     "output_type": "stream",
     "text": [
      "2650\n"
     ]
    }
   ],
   "source": [
    "def electric_bill(units):\n",
    "    if units <= 100:\n",
    "        return units * 5\n",
    "    elif units <= 200:\n",
    "        return (100 * 5) + (units - 100) * 7\n",
    "    else:\n",
    "        return (100 * 5) + (100 * 7) + (units - 200) * 10\n",
    "\n",
    "units = int(input(\"\"))\n",
    "print( electric_bill(units))\n"
   ]
  },
  {
   "cell_type": "code",
   "execution_count": 13,
   "id": "5e24cd4d",
   "metadata": {},
   "outputs": [
    {
     "name": "stdout",
     "output_type": "stream",
     "text": [
      "Zero diviion error\n",
      "dealing  with exceptions\n",
      "3.0\n",
      "dealing  with exceptions\n"
     ]
    }
   ],
   "source": [
    "def Exc_hand(a,b):\n",
    "    try:\n",
    "        c=a/b\n",
    "        print(c)\n",
    "    except:\n",
    "        print(\"Zero diviion error\")\n",
    "    finally :\n",
    "        print(\"dealing  with exceptions\")\n",
    "\n",
    "x=int(input())\n",
    "y=int(input())\n",
    "Exc_hand(x,y)\n",
    "Exc_hand(6,2)"
   ]
  },
  {
   "cell_type": "code",
   "execution_count": 19,
   "id": "336d7004",
   "metadata": {},
   "outputs": [
    {
     "data": {
      "text/plain": [
       "4321"
      ]
     },
     "execution_count": 19,
     "metadata": {},
     "output_type": "execute_result"
    }
   ],
   "source": [
    "def rev_text(t):\n",
    "    s=int(t[: : -1])\n",
    "    return s\n",
    "rev_text('1234')"
   ]
  },
  {
   "cell_type": "code",
   "execution_count": 23,
   "id": "697e947d",
   "metadata": {},
   "outputs": [
    {
     "name": "stdout",
     "output_type": "stream",
     "text": [
      " Invalid input!\n",
      " finished\n"
     ]
    }
   ],
   "source": [
    "try:\n",
    "    a = int(input(\"Enter numerator: \"))\n",
    "    b = int(input(\"Enter denominator: \"))\n",
    "    result = a / b\n",
    "    print(\"Result =\", result)\n",
    "\n",
    "except ValueError:\n",
    "    print(\" Invalid input!\")\n",
    "\n",
    "except ZeroDivisionError:\n",
    "    print(\" Cannot divide by zero.\")\n",
    "\n",
    "finally:\n",
    "    print(\" finished\")\n"
   ]
  },
  {
   "cell_type": "code",
   "execution_count": null,
   "id": "94ffdcba",
   "metadata": {},
   "outputs": [
    {
     "name": "stdout",
     "output_type": "stream",
     "text": [
      " Withdrawal amount exceeds balance\n"
     ]
    }
   ],
   "source": [
    "\n",
    "class lessBalanceError(Exception):\n",
    "    pass\n",
    "\n",
    "def withdraw(balance, amount):\n",
    "    if amount > balance:\n",
    "        raise lessBalanceError(\" Withdrawal amount exceeds balance\")\n",
    "    else:\n",
    "        balance -= amount\n",
    "        print(\" Withdrawal successful! \")\n",
    "try:\n",
    "    balance = 80000\n",
    "    amount = 81000\n",
    "    withdraw(balance, amount)\n",
    "\n",
    "except lessBalanceError as e:\n",
    "    print(e)\n",
    "\n",
    "except ValueError:\n",
    "    print(\"Invalid input.\")\n",
    "\n",
    "    \n"
   ]
  },
  {
   "cell_type": "code",
   "execution_count": null,
   "id": "16128a5e",
   "metadata": {},
   "outputs": [
    {
     "name": "stdout",
     "output_type": "stream",
     "text": [
      "8\n"
     ]
    }
   ],
   "source": []
  }
 ],
 "metadata": {
  "kernelspec": {
   "display_name": "Python 3",
   "language": "python",
   "name": "python3"
  },
  "language_info": {
   "codemirror_mode": {
    "name": "ipython",
    "version": 3
   },
   "file_extension": ".py",
   "mimetype": "text/x-python",
   "name": "python",
   "nbconvert_exporter": "python",
   "pygments_lexer": "ipython3",
   "version": "3.11.0"
  }
 },
 "nbformat": 4,
 "nbformat_minor": 5
}
