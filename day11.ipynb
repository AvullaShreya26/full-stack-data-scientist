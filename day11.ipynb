{
 "cells": [
  {
   "cell_type": "code",
   "execution_count": 1,
   "id": "330f1a38",
   "metadata": {},
   "outputs": [
    {
     "name": "stdout",
     "output_type": "stream",
     "text": [
      "[2, 3, 5, 7, 11, 13, 17, 19]\n"
     ]
    }
   ],
   "source": [
    "def primes_up_to(n):\n",
    "    primes = []\n",
    "    for i in range(2, n + 1):\n",
    "        is_prime = True\n",
    "        for j in range(2, int(i**0.5) + 1):\n",
    "            if i % j == 0:\n",
    "                is_prime = False\n",
    "                break\n",
    "        if is_prime:\n",
    "            primes.append(i)\n",
    "    return primes\n",
    "\n",
    "print(primes_up_to(20))   "
   ]
  },
  {
   "cell_type": "code",
   "execution_count": 1,
   "id": "ebff10fc",
   "metadata": {},
   "outputs": [
    {
     "name": "stdout",
     "output_type": "stream",
     "text": [
      "True\n"
     ]
    }
   ],
   "source": [
    "def is_palindrome(text):\n",
    "    text = text.replace(\" \", \"\").lower()  \n",
    "    return text == text[::-1]\n",
    "print(is_palindrome(\"never odd or even\"))\n"
   ]
  },
  {
   "cell_type": "code",
   "execution_count": 9,
   "id": "a9a9515c",
   "metadata": {},
   "outputs": [
    {
     "name": "stdout",
     "output_type": "stream",
     "text": [
      "2.23606797749979\n",
      "120\n",
      "0.8509035245341184\n"
     ]
    }
   ],
   "source": [
    "import math\n",
    "num=int(input())\n",
    "print(math.sqrt(num))\n",
    "print(math.factorial(num))\n",
    "deg=45\n",
    "print(math.sin(deg))"
   ]
  },
  {
   "cell_type": "code",
   "execution_count": null,
   "id": "7e2575dd",
   "metadata": {},
   "outputs": [
    {
     "name": "stdout",
     "output_type": "stream",
     "text": [
      "g>|Ogaw\n"
     ]
    }
   ],
   "source": [
    "import random\n",
    "import string\n",
    "\n",
    "def gen_password(length):\n",
    "    char = string.ascii_letters + string.digits + string.punctuation\n",
    "    passw = ''.join(random.choice(char) for _ in range(length))\n",
    "    return passw\n",
    "print(gen_password(7))\n"
   ]
  },
  {
   "cell_type": "code",
   "execution_count": 13,
   "id": "dc32b85f",
   "metadata": {},
   "outputs": [
    {
     "name": "stdout",
     "output_type": "stream",
     "text": [
      "Counter({'cat': 2, 'dog': 1})\n"
     ]
    }
   ],
   "source": [
    "import collections\n",
    "text=input(\"enter \").split()\n",
    "\n",
    "print(collections.Counter(text))"
   ]
  },
  {
   "cell_type": "code",
   "execution_count": 8,
   "id": "a4f1f8cc",
   "metadata": {},
   "outputs": [
    {
     "name": "stdout",
     "output_type": "stream",
     "text": [
      "5\n",
      "4\n",
      "3\n",
      "2\n",
      "1\n",
      "Time’s up!\n"
     ]
    }
   ],
   "source": [
    "import time\n",
    "\n",
    "def countdown(n):\n",
    "    while n > 0:\n",
    "        print(n) \n",
    "        time.sleep(1)\n",
    "        n -= 1\n",
    "    print(\"Time’s up!\")\n",
    "countdown(5)\n"
   ]
  },
  {
   "cell_type": "code",
   "execution_count": null,
   "id": "f1e974b2",
   "metadata": {},
   "outputs": [
    {
     "name": "stdout",
     "output_type": "stream",
     "text": [
      "100\n"
     ]
    }
   ],
   "source": [
    "class Bank_acc:\n",
    "    def __init__(self, balance=0):\n",
    "        self.balance = balance  \n",
    "\n",
    "    def dep_money(self, amount):\n",
    "        self.balance += amount\n",
    "        return self.balance\n",
    "\n",
    "    def with_money(self, amount):\n",
    "        if amount <= self.balance:\n",
    "            self.balance -= amount\n",
    "            return self.balance\n",
    "\n",
    "    def get_balance(self):\n",
    "        return self.balance\n",
    "    \n",
    "    \n",
    "account = Bank_acc(100)       \n",
    "account.dep_money(50)  \n",
    "account.with_money(50)    \n",
    "print(account.get_balance()) \n",
    "\n",
    "\n",
    "\n",
    "            \n",
    "\n"
   ]
  },
  {
   "cell_type": "code",
   "execution_count": 5,
   "id": "61e87ecb",
   "metadata": {},
   "outputs": [
    {
     "name": "stdout",
     "output_type": "stream",
     "text": [
      "Average: 85.0\n",
      "Highest: 90\n",
      "Lowest: 80\n",
      "New Marks: [90, 80, 85, 95]\n",
      "New Average: 87.5\n"
     ]
    }
   ],
   "source": [
    "class Student:\n",
    "    def __init__(self, name, marks=None):\n",
    "        self.name = name\n",
    "        self.marks = marks if marks is not None else []\n",
    "\n",
    "    def get_average(self):\n",
    "        if len(self.marks) == 0:\n",
    "            return 0\n",
    "        return sum(self.marks) / len(self.marks)\n",
    "\n",
    "    def add_mark(self, mark):\n",
    "        self.marks.append(mark)\n",
    "\n",
    "    def get_highest(self):\n",
    "        if len(self.marks) == 0:\n",
    "            return None\n",
    "        return max(self.marks)\n",
    "\n",
    "    def get_lowest(self):\n",
    "        if len(self.marks) == 0:\n",
    "            return None\n",
    "        return min(self.marks)\n",
    "s1 = Student(\"Shreya\", [90, 80, 85])\n",
    "print(\"Average:\", s1.get_average())  \n",
    "print(\"Highest:\", s1.get_highest())  \n",
    "print(\"Lowest:\", s1.get_lowest())     \n",
    "\n",
    "s1.add_mark(95)\n",
    "print(\"New Marks:\", s1.marks)        \n",
    "print(\"New Average:\", s1.get_average()) \n"
   ]
  },
  {
   "cell_type": "code",
   "execution_count": 6,
   "id": "788ee1e7",
   "metadata": {},
   "outputs": [
    {
     "name": "stdout",
     "output_type": "stream",
     "text": [
      "10000.0\n"
     ]
    }
   ],
   "source": [
    "class Employee:\n",
    "    def __init__(self, name, salary, role):\n",
    "        self.name = name\n",
    "        self.salary = salary\n",
    "        self.role = role\n",
    "\n",
    "    def bonus(self):\n",
    "        return 0  \n",
    "\n",
    "\n",
    "class Manager(Employee):\n",
    "    def __init__(self, name, salary):\n",
    "        super().__init__(name, salary, \"Manager\")\n",
    "\n",
    "    def bonus(self):\n",
    "        return self.salary * 0.20  \n",
    "\n",
    "class Developer(Employee):\n",
    "    def __init__(self, name, salary):\n",
    "        super().__init__(name, salary, \"Developer\")\n",
    "\n",
    "    def bonus(self):\n",
    "        return self.salary * 0.10 \n",
    "\n",
    "\n",
    "class Intern(Employee):\n",
    "    def __init__(self, name, salary):\n",
    "        super().__init__(name, salary, \"Intern\")\n",
    "\n",
    "    def bonus(self):\n",
    "        return self.salary * 0.05  \n",
    "\n",
    "\n",
    "\n",
    "m = Manager(\"shreya\", 50000)\n",
    "print(m.bonus())  \n"
   ]
  },
  {
   "cell_type": "code",
   "execution_count": 17,
   "id": "2a2053d7",
   "metadata": {},
   "outputs": [
    {
     "name": "stdout",
     "output_type": "stream",
     "text": [
      "120\n"
     ]
    }
   ],
   "source": [
    "def fact(n):\n",
    "    if n == 0 or n == 1:  \n",
    "        return 1\n",
    "    else:\n",
    "        return n * fact(n - 1)\n",
    "\n",
    "n1 = int(input(\"Enter a number: \"))\n",
    "print(fact(n1))\n"
   ]
  },
  {
   "cell_type": "code",
   "execution_count": 18,
   "id": "088e66b8",
   "metadata": {},
   "outputs": [
    {
     "name": "stdout",
     "output_type": "stream",
     "text": [
      "0 1 1 2 "
     ]
    }
   ],
   "source": [
    "def fib(n):\n",
    "    if n <= 1:\n",
    "        return n\n",
    "    else:\n",
    "        return fib(n-1) + fib(n-2)\n",
    "\n",
    "n1 = int(input(\"Enter number of terms: \"))\n",
    "for i in range(n1):\n",
    "    print(fib(i), end=\" \")\n"
   ]
  },
  {
   "cell_type": "code",
   "execution_count": 19,
   "id": "6e5354b5",
   "metadata": {},
   "outputs": [
    {
     "name": "stdout",
     "output_type": "stream",
     "text": [
      "{'apple': 2, 'banana': 2, 'orange': 1}\n"
     ]
    }
   ],
   "source": [
    "def unique_word_counter(sentence):\n",
    "    words = sentence.split()   # split by spaces\n",
    "    freq = {}\n",
    "    for word in words:\n",
    "        if word in freq:\n",
    "            freq[word] += 1\n",
    "        else:\n",
    "            freq[word] = 1\n",
    "    return freq\n",
    "\n",
    "\n",
    "# Example\n",
    "text = \"apple banana apple orange banana\"\n",
    "print(unique_word_counter(text))\n"
   ]
  },
  {
   "cell_type": "code",
   "execution_count": 20,
   "id": "d4e5c5fc",
   "metadata": {},
   "outputs": [
    {
     "name": "stdout",
     "output_type": "stream",
     "text": [
      "Grade: A\n"
     ]
    }
   ],
   "source": [
    "def get_grade(marks):\n",
    "    avg = sum(marks) / len(marks)\n",
    "\n",
    "    if avg >= 90:\n",
    "        grade = \"A+\"\n",
    "    elif avg >= 80:\n",
    "        grade = \"A\"\n",
    "    elif avg >= 70:\n",
    "        grade = \"B\"\n",
    "    elif avg >= 60:\n",
    "        grade = \"C\"\n",
    "    elif avg >= 50:\n",
    "        grade = \"D\"\n",
    "    else:\n",
    "        grade = \"F\"\n",
    "\n",
    "    return f\"Grade: {grade}\"\n",
    "\n",
    "marks = [85, 90, 78]\n",
    "print(get_grade(marks))\n"
   ]
  },
  {
   "cell_type": "code",
   "execution_count": 21,
   "id": "6da4d424",
   "metadata": {},
   "outputs": [
    {
     "name": "stdout",
     "output_type": "stream",
     "text": [
      "10\n"
     ]
    }
   ],
   "source": [
    "def second_largest(nums):\n",
    "    nums = list(set(nums)) \n",
    "    nums.sort(reverse=True) \n",
    "    if len(nums) < 2:\n",
    "        return None\n",
    "    return nums[1]\n",
    "\n",
    "print(second_largest([10, 5, 20, 8]))\n"
   ]
  },
  {
   "cell_type": "code",
   "execution_count": 1,
   "id": "1211949a",
   "metadata": {},
   "outputs": [
    {
     "name": "stdout",
     "output_type": "stream",
     "text": [
      "{'txt': 0, 'py': 0}\n"
     ]
    }
   ],
   "source": [
    "import os\n",
    "\n",
    "def count_files():\n",
    "    txt_count = 0\n",
    "    py_count = 0\n",
    "    \n",
    "    for file in os.listdir(\".\"):  \n",
    "        if os.path.isfile(file):   \n",
    "            if file.endswith(\".txt\"):\n",
    "                txt_count += 1\n",
    "            elif file.endswith(\".py\"):\n",
    "                py_count += 1\n",
    "\n",
    "    return {\"txt\": txt_count, \"py\": py_count}\n",
    "\n",
    "print(count_files())\n"
   ]
  },
  {
   "cell_type": "code",
   "execution_count": 2,
   "id": "f3c3642e",
   "metadata": {},
   "outputs": [
    {
     "name": "stdout",
     "output_type": "stream",
     "text": [
      "Mean: 87.85714285714286\n",
      "Median: 90\n",
      "Variance: 73.80952380952381\n"
     ]
    }
   ],
   "source": [
    "import statistics as stats\n",
    "\n",
    "scores = [75, 80, 90, 100, 85, 90, 95]\n",
    "\n",
    "mean_score = stats.mean(scores)\n",
    "median_score = stats.median(scores)\n",
    "variance_score = stats.variance(scores)  \n",
    "\n",
    "print(\"Mean:\", mean_score)\n",
    "print(\"Median:\", median_score)\n",
    "print(\"Variance:\", variance_score)\n"
   ]
  },
  {
   "cell_type": "code",
   "execution_count": 3,
   "id": "a81ec5b6",
   "metadata": {},
   "outputs": [
    {
     "name": "stdout",
     "output_type": "stream",
     "text": [
      "(2.0, 1.0)\n"
     ]
    }
   ],
   "source": [
    "import math\n",
    "\n",
    "def solve_quadratic(a, b, c):\n",
    "    d = b**2 - 4*a*c   \n",
    "    \n",
    "    if d > 0:\n",
    "        root1 = (-b + math.sqrt(d)) / (2*a)\n",
    "        root2 = (-b - math.sqrt(d)) / (2*a)\n",
    "        return root1, root2\n",
    "    elif d == 0:\n",
    "        root = -b / (2*a)\n",
    "        return root,\n",
    "    else:\n",
    "        return \"No Real Roots\"\n",
    "\n",
    "a, b, c = 1, -3, 2\n",
    "print(solve_quadratic(a, b, c))\n"
   ]
  },
  {
   "cell_type": "code",
   "execution_count": 4,
   "id": "7c55b469",
   "metadata": {},
   "outputs": [
    {
     "name": "stdout",
     "output_type": "stream",
     "text": [
      "You chose Rock, Computer chose Paper\n",
      "You Lose!\n"
     ]
    }
   ],
   "source": [
    "import random\n",
    "\n",
    "def play_rps(user_choice):\n",
    "    options = [\"Rock\", \"Paper\", \"Scissors\"]\n",
    "    computer_choice = random.choice(options)\n",
    "\n",
    "    print(f\"You chose {user_choice}, Computer chose {computer_choice}\")\n",
    "\n",
    "    if user_choice == computer_choice:\n",
    "        return \"It's a Tie!\"\n",
    "    elif (user_choice == \"Rock\" and computer_choice == \"Scissors\") or \\\n",
    "         (user_choice == \"Paper\" and computer_choice == \"Rock\") or \\\n",
    "         (user_choice == \"Scissors\" and computer_choice == \"Paper\"):\n",
    "        return \"You Win!\"\n",
    "    else:\n",
    "        return \"You Lose!\"\n",
    "\n",
    "print(play_rps(\"Rock\"))\n"
   ]
  },
  {
   "cell_type": "code",
   "execution_count": 11,
   "id": "8d39b721",
   "metadata": {},
   "outputs": [
    {
     "name": "stdout",
     "output_type": "stream",
     "text": [
      "You borrowed Python 101\n",
      "You returned Python 101\n",
      "Available books: {'Python 101': 3, 'Data Science': 2}\n"
     ]
    }
   ],
   "source": [
    "\n",
    "class Library:\n",
    "    def __init__(self, books):\n",
    "        self.books = books  \n",
    "\n",
    "    def borrow(self, title):\n",
    "        if title in self.books and self.books[title] > 0:\n",
    "            self.books[title] -= 1\n",
    "            return f\"You borrowed {title}\"\n",
    "        else:\n",
    "            return f\"{title} not available\"\n",
    "\n",
    "    def return_book(self, title):\n",
    "        if title in self.books:\n",
    "            self.books[title] += 1\n",
    "        else:\n",
    "            self.books[title] = 1\n",
    "        return f\"You returned {title}\"\n",
    "\n",
    "    def show_books(self):\n",
    "        print(\"Available books:\", self.books)\n",
    "\n",
    "lib = Library({\"Python 101\": 3, \"Data Science\": 2})\n",
    "print(lib.borrow(\"Python 101\"))\n",
    "print(lib.return_book(\"Python 101\"))\n",
    "lib.show_books()\n",
    "\n"
   ]
  },
  {
   "cell_type": "code",
   "execution_count": 12,
   "id": "ab694954",
   "metadata": {},
   "outputs": [
    {
     "name": "stdout",
     "output_type": "stream",
     "text": [
      "Access Granted\n",
      "Deposited 200\n",
      "Withdrew 100\n",
      "Balance: 600\n"
     ]
    }
   ],
   "source": [
    "class ATM:\n",
    "    def __init__(self, pin, balance=0):\n",
    "        self.pin = pin\n",
    "        self.balance = balance\n",
    "        self.is_authenticated = False\n",
    "\n",
    "    def login(self, pin):\n",
    "        if pin == self.pin:\n",
    "            self.is_authenticated = True\n",
    "            return \"Access Granted\"\n",
    "        else:\n",
    "            return \"Invalid PIN\"\n",
    "\n",
    "    def check_balance(self):\n",
    "        if not self.is_authenticated:\n",
    "            return \"Access Denied\"\n",
    "        return f\"Balance: {self.balance}\"\n",
    "\n",
    "    def deposit(self, amount):\n",
    "        if not self.is_authenticated:\n",
    "            return \"Access Denied\"\n",
    "        self.balance += amount\n",
    "        return f\"Deposited {amount}\"\n",
    "\n",
    "    def withdraw(self, amount):\n",
    "        if not self.is_authenticated:\n",
    "            return \"Access Denied\"\n",
    "        if amount <= self.balance:\n",
    "            self.balance -= amount\n",
    "            return f\"Withdrew {amount}\"\n",
    "        else:\n",
    "            return \"Insufficient funds\"\n",
    "\n",
    "atm = ATM(1234, 500)\n",
    "print(atm.login(1234))\n",
    "print(atm.deposit(200))\n",
    "print(atm.withdraw(100))\n",
    "print(atm.check_balance())\n"
   ]
  },
  {
   "cell_type": "code",
   "execution_count": 13,
   "id": "88c0983f",
   "metadata": {},
   "outputs": [
    {
     "name": "stdout",
     "output_type": "stream",
     "text": [
      "Dr. Smith is teaching Python\n",
      "Alice enrolled in Python\n",
      "Dr. Smith assigned: Project 1\n",
      "Alice submitted: Project 1\n"
     ]
    }
   ],
   "source": [
    "class Professor:\n",
    "    def __init__(self, name, subject):\n",
    "        self.name = name\n",
    "        self.subject = subject\n",
    "\n",
    "    def teach(self, course):\n",
    "        return f\"{self.name} is teaching {course}\"\n",
    "\n",
    "    def give_assignment(self, task):\n",
    "        return f\"{self.name} assigned: {task}\"\n",
    "\n",
    "\n",
    "class Student:\n",
    "    def __init__(self, name):\n",
    "        self.name = name\n",
    "        self.courses = []\n",
    "        self.assignments = []\n",
    "\n",
    "    def enroll(self, course):\n",
    "        self.courses.append(course)\n",
    "        return f\"{self.name} enrolled in {course}\"\n",
    "\n",
    "    def submit_assignment(self, task):\n",
    "        self.assignments.append(task)\n",
    "        return f\"{self.name} submitted: {task}\"\n",
    "\n",
    "prof = Professor(\"Dr. Smith\", \"Computer Science\")\n",
    "stud = Student(\"Alice\")\n",
    "\n",
    "print(prof.teach(\"Python\"))\n",
    "print(stud.enroll(\"Python\"))\n",
    "print(prof.give_assignment(\"Project 1\"))\n",
    "print(stud.submit_assignment(\"Project 1\"))\n"
   ]
  },
  {
   "cell_type": "code",
   "execution_count": 14,
   "id": "0cb2001c",
   "metadata": {},
   "outputs": [
    {
     "name": "stdout",
     "output_type": "stream",
     "text": [
      "Booked 2 tickets for Avatar\n",
      "Cancelled 1 ticket(s) for Avatar\n",
      "Movies: {'Avatar': 9, 'Batman': 5}\n"
     ]
    }
   ],
   "source": [
    "class Cinema:\n",
    "    def __init__(self, movies):\n",
    "        self.movies = movies  \n",
    "\n",
    "    def book(self, movie, seats):\n",
    "        if movie in self.movies and self.movies[movie] >= seats:\n",
    "            self.movies[movie] -= seats\n",
    "            return f\"Booked {seats} tickets for {movie}\"\n",
    "        else:\n",
    "            return \"Not enough seats available\"\n",
    "\n",
    "    def cancel(self, movie, seats):\n",
    "        if movie in self.movies:\n",
    "            self.movies[movie] += seats\n",
    "            return f\"Cancelled {seats} ticket(s) for {movie}\"\n",
    "        else:\n",
    "            return \"Movie not found\"\n",
    "\n",
    "    def show_movies(self):\n",
    "        print(\"Movies:\", self.movies)\n",
    "\n",
    "cinema = Cinema({\"Avatar\": 10, \"Batman\": 5})\n",
    "print(cinema.book(\"Avatar\", 2))\n",
    "print(cinema.cancel(\"Avatar\", 1))\n",
    "cinema.show_movies()\n"
   ]
  },
  {
   "cell_type": "code",
   "execution_count": null,
   "id": "a258dfb4",
   "metadata": {},
   "outputs": [
    {
     "name": "stdout",
     "output_type": "stream",
     "text": [
      "Burger added\n",
      "Pizza added\n",
      "Pizza price updated to 250\n",
      "Burger removed\n",
      "Menu: {'Pizza': 250}\n"
     ]
    }
   ],
   "source": [
    "class Menu:\n",
    "    def __init__(self):\n",
    "        self.items = {}\n",
    "\n",
    "    def add_item(self, name, price):\n",
    "        self.items[name] = price\n",
    "        return f\"{name} added\"\n",
    "\n",
    "    def remove_item(self, name):\n",
    "        if name in self.items:\n",
    "            del self.items[name]\n",
    "            return f\"{name} removed\"\n",
    "        else:\n",
    "            return f\"{name} not found in menu\"\n",
    "\n",
    "    def update_price(self, name, new_price):\n",
    "        if name in self.items:\n",
    "            self.items[name] = new_price\n",
    "            return f\"{name} price updated to {new_price}\"\n",
    "        else:\n",
    "            return f\"{name} not found in menu\"\n",
    "\n",
    "    def show_menu(self):\n",
    "        print(f\"Menu: {self.items}\")\n",
    "\n",
    "\n",
    "menu = Menu()\n",
    "\n",
    "print(menu.add_item(\"Burger\", 100))\n",
    "print(menu.add_item(\"Pizza\", 200))\n",
    "print(menu.update_price(\"Pizza\", 250))\n",
    "print(menu.remove_item(\"Burger\"))\n",
    "menu.show_menu()\n"
   ]
  },
  {
   "cell_type": "code",
   "execution_count": 8,
   "id": "b78ef23a",
   "metadata": {},
   "outputs": [
    {
     "name": "stdout",
     "output_type": "stream",
     "text": [
      "153.93804002589985\n",
      "20\n"
     ]
    }
   ],
   "source": [
    "import math\n",
    "\n",
    "class Shape:\n",
    "    def __init__(self, name):\n",
    "        self.name = name\n",
    "\n",
    "    def area(self):\n",
    "        raise NotImplementedError(\"Subclasses must implement area()\")\n",
    "\n",
    "\n",
    "class Circle(Shape):\n",
    "    def __init__(self, radius):\n",
    "        super().__init__(\"Circle\")\n",
    "        self.radius = radius\n",
    "\n",
    "    def area(self):\n",
    "        return math.pi * (self.radius ** 2)\n",
    "\n",
    "\n",
    "class Rectangle(Shape):\n",
    "    def __init__(self, width, height):\n",
    "        super().__init__(\"Rectangle\")\n",
    "        self.width = width\n",
    "        self.height = height\n",
    "\n",
    "    def area(self):\n",
    "        return self.width * self.height\n",
    "\n",
    "c = Circle(7)\n",
    "print(c.area()) \n",
    "\n",
    "r = Rectangle(4, 5)\n",
    "print(r.area())  \n"
   ]
  },
  {
   "cell_type": "code",
   "execution_count": null,
   "id": "86dd8448",
   "metadata": {},
   "outputs": [],
   "source": []
  },
  {
   "cell_type": "code",
   "execution_count": 9,
   "id": "f8a8fa02",
   "metadata": {},
   "outputs": [
    {
     "name": "stdout",
     "output_type": "stream",
     "text": [
      "Total = 2000\n",
      "Shirt: 500\n",
      "Shoes: 1500\n"
     ]
    }
   ],
   "source": [
    "class Order:\n",
    "    def __init__(self):\n",
    "        self.items = {}   \n",
    "\n",
    "    def add(self, item, price):\n",
    "        self.items[item] = price\n",
    "\n",
    "    def remove(self, item):\n",
    "        if item in self.items:\n",
    "            del self.items[item]\n",
    "\n",
    "    def calculate_total(self):\n",
    "        return sum(self.items.values())\n",
    "\n",
    "    def show_items(self):\n",
    "       for item, price in self.items.items():\n",
    "          print(f\"{item}: {price}\")\n",
    "\n",
    "order = Order()\n",
    "order.add(\"Shirt\", 500)\n",
    "order.add(\"Shoes\", 1500)\n",
    "\n",
    "print(\"Total =\", order.calculate_total())   \n",
    "\n",
    "order.show_items() \n"
   ]
  },
  {
   "cell_type": "code",
   "execution_count": 2,
   "id": "03230e6e",
   "metadata": {},
   "outputs": [
    {
     "name": "stdout",
     "output_type": "stream",
     "text": [
      "True\n"
     ]
    }
   ],
   "source": [
    "def is_anagram(word1, word2):\n",
    "    return sorted(word1.lower()) == sorted(word2.lower())\n",
    "\n",
    "p=input(\"enter \")\n",
    "p1=input(\"enter \")\n",
    "print(is_anagram(p,p1))"
   ]
  },
  {
   "cell_type": "code",
   "execution_count": null,
   "id": "f5b5e0fd",
   "metadata": {},
   "outputs": [],
   "source": []
  },
  {
   "cell_type": "code",
   "execution_count": null,
   "id": "f53d5907",
   "metadata": {},
   "outputs": [],
   "source": []
  },
  {
   "cell_type": "code",
   "execution_count": 4,
   "id": "5d31252d",
   "metadata": {},
   "outputs": [
    {
     "name": "stdout",
     "output_type": "stream",
     "text": [
      "vowels =  2\n",
      "constonant =  3\n"
     ]
    }
   ],
   "source": [
    "def count_vc(text):\n",
    "    v_c=0\n",
    "    c_c=0\n",
    "    for ch in text:\n",
    "        if ch in \"aeiouAEIOU\":\n",
    "          v_c=v_c+1\n",
    "        else:\n",
    "           c_c=c_c+1\n",
    "    print(\"vowels = \",v_c)\n",
    "    print(\"constonant = \",c_c)\n",
    "t=input(\"enter \")\n",
    "count_vc(t)\n",
    "\n",
    "\n",
    "    "
   ]
  },
  {
   "cell_type": "code",
   "execution_count": 6,
   "id": "ce1f8d5e",
   "metadata": {},
   "outputs": [
    {
     "name": "stdout",
     "output_type": "stream",
     "text": [
      "World\n"
     ]
    }
   ],
   "source": [
    "def longest_word(text):\n",
    "    words = text.split()\n",
    "    longest = max(words)  \n",
    "    return longest\n",
    "print(longest_word(\"ALL World\"))   \n"
   ]
  }
 ],
 "metadata": {
  "kernelspec": {
   "display_name": "Python 3",
   "language": "python",
   "name": "python3"
  },
  "language_info": {
   "codemirror_mode": {
    "name": "ipython",
    "version": 3
   },
   "file_extension": ".py",
   "mimetype": "text/x-python",
   "name": "python",
   "nbconvert_exporter": "python",
   "pygments_lexer": "ipython3",
   "version": "3.11.0"
  }
 },
 "nbformat": 4,
 "nbformat_minor": 5
}
