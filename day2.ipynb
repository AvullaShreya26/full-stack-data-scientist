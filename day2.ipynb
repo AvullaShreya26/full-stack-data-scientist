{
 "cells": [
  {
   "cell_type": "code",
   "execution_count": 6,
   "id": "e5bfdffd",
   "metadata": {},
   "outputs": [
    {
     "name": "stdout",
     "output_type": "stream",
     "text": [
      "Compound Interest: 512.5000000000002\n",
      "Total Amount: 5512.5\n"
     ]
    }
   ],
   "source": [
    "\n",
    "principal = float(input(\"Enter Principal Amount: \"))\n",
    "rate = float(input(\"Enter Rate of Interest (%): \"))\n",
    "time = float(input(\"Enter Time (in years): \"))\n",
    "interest_type = input(\"Enter type of interest (Simple interest/Compound Interest): \").strip().upper()\n",
    "if interest_type == \"Simple Interest\":\n",
    "    si = (principal * rate * time) / 100\n",
    "    total = principal + si\n",
    "    print(\"Simple Interest:\", si)\n",
    "    print(\"Total Amount:\", total)\n",
    "\n",
    "else :\n",
    "    ci = principal * ((1 + rate/100) ** time - 1)\n",
    "    total = principal + ci\n",
    "    print(\"Compound Interest:\", ci)\n",
    "    print(\"Total Amount:\", total)\n"
   ]
  },
  {
   "cell_type": "code",
   "execution_count": 1,
   "id": "d16b1e90",
   "metadata": {},
   "outputs": [
    {
     "name": "stdout",
     "output_type": "stream",
     "text": [
      "c:\\Users\\Admin\\Desktop\\Tekwork\n"
     ]
    }
   ],
   "source": [
    "import os\n",
    "print(os.getcwd())"
   ]
  },
  {
   "cell_type": "code",
   "execution_count": 8,
   "id": "41c860fb",
   "metadata": {},
   "outputs": [
    {
     "name": "stdout",
     "output_type": "stream",
     "text": [
      "3.11.0 | packaged by Anaconda, Inc. | (main, Mar  1 2023, 18:18:21) [MSC v.1916 64 bit (AMD64)]\n"
     ]
    }
   ],
   "source": [
    "import sys\n",
    "print(sys.version)"
   ]
  },
  {
   "cell_type": "code",
   "execution_count": 5,
   "id": "5d637fe5",
   "metadata": {},
   "outputs": [
    {
     "name": "stdout",
     "output_type": "stream",
     "text": [
      "Current Books: ['Python Basics', 'AI Fundamentals', 'Machine Learning']\n",
      "Total Books: 3\n"
     ]
    }
   ],
   "source": [
    "\n",
    "books = [\"Python Basics\", \"Data Science\", \"AI Fundamentals\"]\n",
    "def add_book(book_name):\n",
    "    books.append(book_name)\n",
    "def remove_book(book_name):\n",
    "    if book_name in books:\n",
    "        books.remove(book_name)\n",
    "def display_books():\n",
    "    print(\"Current Books:\", books)\n",
    "    print(\"Total Books:\", len(books))\n",
    "\n",
    "add_book(\"Machine Learning\")\n",
    "remove_book(\"Data Science\")\n",
    "display_books()\n",
    "\n"
   ]
  },
  {
   "cell_type": "code",
   "execution_count": null,
   "id": "106b297a",
   "metadata": {},
   "outputs": [
    {
     "name": "stdout",
     "output_type": "stream",
     "text": [
      "PIN verfied\n",
      "\n",
      "withdrawal successful remaining balance is 3000\n"
     ]
    }
   ],
   "source": [
    "pin = int(input())\n",
    "balance=int(input())\n",
    "withd=int(input())\n",
    "rem=balance-withd\n",
    "if withd<=balance:\n",
    "    print(\"PIN verfied\")\n",
    "    print(f\"withdrawal successful remaining balance is {rem}\")"
   ]
  },
  {
   "cell_type": "code",
   "execution_count": 2,
   "id": "e3450a2b",
   "metadata": {},
   "outputs": [
    {
     "name": "stdout",
     "output_type": "stream",
     "text": [
      "Number of words: 3\n",
      "Number of characters (excluding spaces): 14\n",
      "Number of vowels: 5\n"
     ]
    }
   ],
   "source": [
    "\n",
    "sentence = input(\"Enter a sentence: \")\n",
    "words = sentence.split()\n",
    "num_words = len(words)\n",
    "num_chars = len(sentence.replace(\" \", \"\"))\n",
    "vowels = \"aeiouAEIOU\"\n",
    "num_vowels = 0\n",
    "for ch in sentence:\n",
    "    if ch in vowels:\n",
    "        num_vowels += 1\n",
    "print(\"Number of words:\", num_words)\n",
    "print(\"Number of characters (excluding spaces):\", num_chars)\n",
    "print(\"Number of vowels:\", num_vowels)\n"
   ]
  },
  {
   "cell_type": "code",
   "execution_count": 5,
   "id": "3ad86ca7",
   "metadata": {},
   "outputs": [
    {
     "name": "stdout",
     "output_type": "stream",
     "text": [
      "Phonebook: {'Suhel': 9876543210, 'Ravi': 9123456780, 'Anita': 9988776655}\n",
      "Name not found in phonebook.\n"
     ]
    }
   ],
   "source": [
    "\n",
    "phonebook = {\n",
    "    \"Suhel\": 9876543210, \"Ravi\": 9123456780, \"Anita\": 9988776655\n",
    "   \n",
    "}\n",
    "print(\"Phonebook:\", phonebook)\n",
    "\n",
    "name = input(\"Enter the name to search: \")\n",
    "\n",
    "if name in phonebook:\n",
    "    print(f\"{name}'s number is: {phonebook[name]}\")\n",
    "else:\n",
    "    print(\"Name not found in phonebook.\")\n"
   ]
  },
  {
   "cell_type": "code",
   "execution_count": null,
   "id": "97944621",
   "metadata": {},
   "outputs": [
    {
     "name": "stdout",
     "output_type": "stream",
     "text": [
      "Highest Marks = 90\n",
      "Lowest Marks = 45\n",
      "Average Marks = 71.4\n"
     ]
    }
   ],
   "source": [
    "marks = []\n",
    "for i in range(5):\n",
    "    marks.append(int(input(f\"Enter marks for subject {i+1}: \")))\n",
    "highest = max(marks)\n",
    "lowest = min(marks)\n",
    "average = sum(marks) / len(marks)\n",
    "print(\"Highest Marks =\", highest)\n",
    "print(\"Lowest Marks =\", lowest)\n",
    "print(\"Average Marks =\", average)\n"
   ]
  },
  {
   "cell_type": "code",
   "execution_count": 3,
   "id": "fa82e1f6",
   "metadata": {},
   "outputs": [
    {
     "name": "stdout",
     "output_type": "stream",
     "text": [
      "Grade: A+ (Outstanding)\n"
     ]
    }
   ],
   "source": [
    "\n",
    "marks = int(input(\"enter :\"))\n",
    "if marks >= 90:\n",
    "    grade = \"A+ (Outstanding)\"\n",
    "elif marks >= 80:\n",
    "    grade = \"A (Excellent)\"\n",
    "elif marks >= 70:\n",
    "    grade = \"B (Good)\"\n",
    "elif marks >= 60:\n",
    "    grade = \"C (Average)\"\n",
    "else:\n",
    "    grade = \"Fail\"\n",
    "\n",
    "print(\"Grade:\", grade)\n"
   ]
  },
  {
   "cell_type": "code",
   "execution_count": 2,
   "id": "f886326b",
   "metadata": {},
   "outputs": [
    {
     "name": "stdout",
     "output_type": "stream",
     "text": [
      "Addition = 90\n",
      "Subtraction = -10\n",
      "Multiplication = 2000\n",
      "Division = 0.8\n",
      "Modulus = 40\n"
     ]
    }
   ],
   "source": [
    "\n",
    "\n",
    "num1 = int(input(\"Enter number 1: \"))\n",
    "num2 = int(input(\"Enter number 2: \"))\n",
    "\n",
    "print(\"Addition =\", num1 + num2)\n",
    "print(\"Subtraction =\", num1 - num2)\n",
    "print(\"Multiplication =\", num1 * num2)\n",
    "print(\"Division =\", num1 / num2)\n",
    "print(\"Modulus =\", num1 % num2)\n"
   ]
  },
  {
   "cell_type": "code",
   "execution_count": null,
   "id": "2bc91d39",
   "metadata": {},
   "outputs": [],
   "source": [
    "i_p = int(input(\"Enter price of Item 1: \"))\n",
    "i_q = int(input(\"Enter quantity of Item 1: \"))\n",
    "\n",
    "i2_p = int(input(\"Enter price of Item 2: \"))\n",
    "i2_q = int(input(\"Enter quantity of Item 2: \"))\n",
    "\n",
    "i3_p = int(input(\"Enter price of Item 3: \"))\n",
    "i3_q = int(input(\"Enter quantity of Item 3: \"))\n",
    "total = (i_p* i_q) + (i2_p* i2_q) + (i3_p * i3_q)\n",
    "\n",
    "print(\"Total Bill =\", total)\n"
   ]
  }
 ],
 "metadata": {
  "kernelspec": {
   "display_name": "Python 3",
   "language": "python",
   "name": "python3"
  },
  "language_info": {
   "codemirror_mode": {
    "name": "ipython",
    "version": 3
   },
   "file_extension": ".py",
   "mimetype": "text/x-python",
   "name": "python",
   "nbconvert_exporter": "python",
   "pygments_lexer": "ipython3",
   "version": "3.11.0"
  }
 },
 "nbformat": 4,
 "nbformat_minor": 5
}
